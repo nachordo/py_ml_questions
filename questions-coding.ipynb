{
 "cells": [
  {
   "cell_type": "code",
   "execution_count": 1,
   "metadata": {},
   "outputs": [],
   "source": [
    "import numpy as np\n",
    "import pandas as pd\n",
    "import matplotlib.pyplot as plt"
   ]
  },
  {
   "cell_type": "markdown",
   "metadata": {},
   "source": [
    "What are decorators in Python?\n",
    "\n",
    "Decorators in Python are essentially functions that add functionality to an existing function in Python without changing the structure of the function itself. They are represented by the @decorator_name in Python and are called in bottom-up fashion. For example:"
   ]
  },
  {
   "cell_type": "code",
   "execution_count": 2,
   "metadata": {},
   "outputs": [
    {
     "data": {
      "text/plain": [
       "['hello', 'world']"
      ]
     },
     "execution_count": 2,
     "metadata": {},
     "output_type": "execute_result"
    }
   ],
   "source": [
    "# decorator function to convert to lowercase\n",
    "def lowercase_decorator(function):\n",
    "    def wrapper():\n",
    "        func = function()\n",
    "        string_lowercase = func.lower()\n",
    "        return string_lowercase\n",
    "    return wrapper\n",
    "\n",
    "# decorator function to split words\n",
    "def splitter_decorator(function):\n",
    "    def wrapper():\n",
    "        func = function()\n",
    "        string_split = func.split()\n",
    "        return string_split\n",
    "    return wrapper\n",
    "\n",
    "@splitter_decorator # this is executed next\n",
    "@lowercase_decorator # this is executed first\n",
    "def hello():\n",
    "    return 'Hello World'\n",
    "\n",
    "hello()"
   ]
  },
  {
   "cell_type": "markdown",
   "metadata": {},
   "source": [
    "- **Combining multiple lists into one**\n",
    "\n",
    "Comprehensions allow for multiple iterators and hence, can be used to combine multiple lists into one."
   ]
  },
  {
   "cell_type": "code",
   "execution_count": 3,
   "metadata": {},
   "outputs": [
    {
     "name": "stdout",
     "output_type": "stream",
     "text": [
      "[8, 10, 12]\n",
      "[(1, 7), (1, 8), (1, 9), (2, 7), (2, 8), (2, 9), (3, 7), (3, 8), (3, 9)]\n"
     ]
    }
   ],
   "source": [
    "a = [1, 2, 3]\n",
    "b = [7, 8, 9]\n",
    "\n",
    "v1=[(x + y) for (x,y) in zip(a,b)]  # parallel iterators\n",
    "print(v1)\n",
    "\n",
    "v2=[(x,y) for x in a for y in b]    # nested iterators\n",
    "print(v2)"
   ]
  },
  {
   "cell_type": "markdown",
   "metadata": {},
   "source": [
    "- **How do you copy an object in Python?**\n",
    "\n",
    "In Python, the assignment statement (= operator) does not copy objects. Instead, it creates a binding between the existing object and the target variable name. To create copies of an object in Python, we need to use the copy module. Moreover, there are two ways of creating copies for the given object using the copy module -\n",
    "\n",
    "Shallow Copy is a bit-wise copy of an object. The copied object created has an exact copy of the values in the original object. If either of the values are references to other objects, just the reference addresses for the same are copied.\n",
    "Deep Copy copies all values recursively from source to target object, i.e. it even duplicates the objects referenced by the source object."
   ]
  },
  {
   "cell_type": "code",
   "execution_count": 4,
   "metadata": {},
   "outputs": [
    {
     "name": "stdout",
     "output_type": "stream",
     "text": [
      "[1, 2, [3, 5], 7]\n",
      "[1, 2, [3, 5], 7]\n"
     ]
    }
   ],
   "source": [
    "# See that = just dont work\n",
    "list_1 = [1, 2, [3, 5], 4]\n",
    "\n",
    "list_2 = list_1\n",
    "\n",
    "list_2[3] = 7\n",
    "\n",
    "print(list_2)  \n",
    "print(list_1) "
   ]
  },
  {
   "cell_type": "code",
   "execution_count": 5,
   "metadata": {},
   "outputs": [
    {
     "name": "stdout",
     "output_type": "stream",
     "text": [
      "[1, 2, [3, 5, 6], 7]\n",
      "[1, 2, [3, 5, 6], 4]\n"
     ]
    }
   ],
   "source": [
    "from copy import copy, deepcopy\n",
    "\n",
    "list_1 = [1, 2, [3, 5], 4]\n",
    "\n",
    "## shallow copy\n",
    "\n",
    "list_2 = copy(list_1) \n",
    "list_2[3] = 7\n",
    "list_2[2].append(6)\n",
    "\n",
    "print(list_2)  \n",
    "print(list_1) \n",
    "\n"
   ]
  },
  {
   "cell_type": "code",
   "execution_count": 6,
   "metadata": {},
   "outputs": [
    {
     "name": "stdout",
     "output_type": "stream",
     "text": [
      "[1, 2, [3, 5, 7], 8]\n",
      "[1, 2, [3, 5], 4]\n"
     ]
    }
   ],
   "source": [
    "## deep copy\n",
    "list_1 = [1, 2, [3, 5], 4]\n",
    "\n",
    "list_3 = deepcopy(list_1)\n",
    "list_3[3] = 8\n",
    "list_3[2].append(7)\n",
    "\n",
    "print(list_3)  \n",
    "print(list_1)  \n"
   ]
  },
  {
   "cell_type": "markdown",
   "metadata": {},
   "source": [
    "- **Fibonacci sequence in python**:\n",
    "\n",
    "$F_n = F_{n-1} + F_{n-2}$ where $F_0=0$ and $F_1=1$"
   ]
  },
  {
   "cell_type": "code",
   "execution_count": 7,
   "metadata": {},
   "outputs": [
    {
     "name": "stdout",
     "output_type": "stream",
     "text": [
      "n=0  =>  0\n",
      "n=1  =>  1\n",
      "n=2  =>  1\n",
      "n=3  =>  2\n",
      "n=4  =>  3\n",
      "n=5  =>  5\n",
      "n=6  =>  8\n",
      "n=7  =>  13\n",
      "n=8  =>  21\n",
      "n=9  =>  34\n",
      "n=10  =>  55\n"
     ]
    }
   ],
   "source": [
    "def fibb(n):\n",
    "    if n<=1:\n",
    "        return n\n",
    "    else:\n",
    "        return fibb(n-1)+fibb(n-2)\n",
    "\n",
    "for i in range(0,11):\n",
    "    print(f\"n={i}  =>  {fibb(i)}\")"
   ]
  },
  {
   "cell_type": "code",
   "execution_count": 8,
   "metadata": {},
   "outputs": [
    {
     "name": "stdout",
     "output_type": "stream",
     "text": [
      "n=0  =>  0\n",
      "n=1  =>  1\n",
      "n=2  =>  1\n",
      "n=3  =>  2\n",
      "n=4  =>  3\n",
      "n=5  =>  5\n",
      "n=6  =>  8\n",
      "n=7  =>  13\n",
      "n=8  =>  21\n",
      "n=9  =>  34\n",
      "n=10  =>  55\n"
     ]
    }
   ],
   "source": [
    "fib_lambda=lambda n: n if n<=1 else fib_lambda(n-1)+fib_lambda(n-2)\n",
    "for i in range(0,11):\n",
    "    print(f\"n={i}  =>  {fib_lambda(i)}\")"
   ]
  },
  {
   "cell_type": "markdown",
   "metadata": {},
   "source": [
    "- **Translate a string containing a binary code (1 and 0) into a number (integer)**"
   ]
  },
  {
   "cell_type": "code",
   "execution_count": 32,
   "metadata": {},
   "outputs": [
    {
     "name": "stdout",
     "output_type": "stream",
     "text": [
      "0 1 2 3 4 5 685\n"
     ]
    }
   ],
   "source": [
    "\n",
    "def bin2int(bin_str):\n",
    "    integ=0\n",
    "    for i in range(0,len(bin_str)):\n",
    "        if bin_str[len(bin_str)-i-1]==\"1\":\n",
    "            integ+= 2**i \n",
    "    return integ\n",
    "\n",
    "print(bin2int(\"0\"),bin2int(\"1\"),bin2int(\"10\"),bin2int(\"11\"),bin2int(\"100\"),bin2int(\"101\"),bin2int(\"1010101101\"))"
   ]
  },
  {
   "cell_type": "code",
   "execution_count": 33,
   "metadata": {},
   "outputs": [
    {
     "name": "stdout",
     "output_type": "stream",
     "text": [
      "0 1 2 3 4 5 685\n"
     ]
    }
   ],
   "source": [
    "def bin2int2(bin_str):\n",
    "    integ=0\n",
    "    for i in range(0,len(bin_str)):\n",
    "        integ+= 2**i if bin_str[len(bin_str)-i-1]==\"1\" else 0\n",
    "    return integ\n",
    "\n",
    "print(bin2int2(\"0\"),bin2int2(\"1\"),bin2int2(\"10\"),bin2int2(\"11\"),bin2int2(\"100\"),bin2int2(\"101\"),bin2int2(\"1010101101\"))"
   ]
  },
  {
   "cell_type": "code",
   "execution_count": 36,
   "metadata": {},
   "outputs": [
    {
     "name": "stdout",
     "output_type": "stream",
     "text": [
      "5.69 µs ± 22.1 ns per loop (mean ± std. dev. of 7 runs, 100000 loops each)\n"
     ]
    }
   ],
   "source": [
    "%%timeit\n",
    "bin2int(\"0\"),bin2int(\"1\"),bin2int(\"10\"),bin2int(\"11\"),bin2int(\"100\"),bin2int(\"101\"),bin2int(\"1010101101\")"
   ]
  },
  {
   "cell_type": "code",
   "execution_count": 37,
   "metadata": {},
   "outputs": [
    {
     "name": "stdout",
     "output_type": "stream",
     "text": [
      "6.04 µs ± 225 ns per loop (mean ± std. dev. of 7 runs, 100000 loops each)\n"
     ]
    }
   ],
   "source": [
    "%%timeit\n",
    "bin2int2(\"0\"),bin2int2(\"1\"),bin2int2(\"10\"),bin2int2(\"11\"),bin2int2(\"100\"),bin2int2(\"101\"),bin2int2(\"1010101101\")"
   ]
  },
  {
   "cell_type": "markdown",
   "metadata": {},
   "source": [
    "- **How to check that tuple A contains all elements of tuple B. Do both tuples contain unique values?**"
   ]
  },
  {
   "cell_type": "code",
   "execution_count": 45,
   "metadata": {},
   "outputs": [
    {
     "name": "stdout",
     "output_type": "stream",
     "text": [
      "(2, 2, 4, 5)\n",
      "{2, 4, 5}\n",
      "A contains all element of B? =  True\n",
      "A contains all element of B? =  False\n"
     ]
    }
   ],
   "source": [
    "print(tuple([2,2,4,5]))\n",
    "print(set([2,2,4,5]))\n",
    "\n",
    "tuple_a=(2,2,4,5)\n",
    "tuple_b=(2,4,5)\n",
    "\n",
    "print(\"A contains all element of B? = \",set(tuple_b).issubset(tuple_a))\n",
    "\n",
    "tuple_a=(2,2,4,5)\n",
    "tuple_b=(3,4,5)\n",
    "print(\"A contains all element of B? = \",set(tuple_b).issubset(tuple_a))"
   ]
  },
  {
   "cell_type": "markdown",
   "metadata": {},
   "source": [
    "- **Output of the following function in the block below:**\n",
    "\n",
    "15 because we overwrite `x` as a local variable with `x=15` inside the function. Outside the function, `x` will be 12"
   ]
  },
  {
   "cell_type": "code",
   "execution_count": 50,
   "metadata": {},
   "outputs": [
    {
     "name": "stdout",
     "output_type": "stream",
     "text": [
      "15\n"
     ]
    }
   ],
   "source": [
    "def f():\n",
    "     x = 15\n",
    "     print(x)\n",
    "x = 12\n",
    "f()"
   ]
  },
  {
   "cell_type": "code",
   "execution_count": 51,
   "metadata": {},
   "outputs": [
    {
     "name": "stdout",
     "output_type": "stream",
     "text": [
      "12\n"
     ]
    }
   ],
   "source": [
    "print(x)"
   ]
  },
  {
   "cell_type": "markdown",
   "metadata": {},
   "source": [
    "Now it will print 12 because it will print the value of the global variable `x`"
   ]
  },
  {
   "cell_type": "code",
   "execution_count": 49,
   "metadata": {},
   "outputs": [
    {
     "name": "stdout",
     "output_type": "stream",
     "text": [
      "12\n"
     ]
    }
   ],
   "source": [
    "def f():\n",
    "     print(x)\n",
    "x = 12\n",
    "f()"
   ]
  },
  {
   "cell_type": "markdown",
   "metadata": {},
   "source": [
    "- **Build a string with the numbers from 0 to 100, \"0123456789101112...\"**"
   ]
  },
  {
   "cell_type": "code",
   "execution_count": 53,
   "metadata": {},
   "outputs": [
    {
     "data": {
      "text/plain": [
       "'0123456789101112131415161718192021222324252627282930313233343536373839404142434445464748495051525354555657585960616263646566676869707172737475767778798081828384858687888990919293949596979899100'"
      ]
     },
     "execution_count": 53,
     "metadata": {},
     "output_type": "execute_result"
    }
   ],
   "source": [
    "\"\".join([str(n) for n in range(0,101)])"
   ]
  },
  {
   "cell_type": "code",
   "execution_count": null,
   "metadata": {},
   "outputs": [],
   "source": []
  },
  {
   "cell_type": "code",
   "execution_count": null,
   "metadata": {},
   "outputs": [],
   "source": []
  },
  {
   "cell_type": "code",
   "execution_count": null,
   "metadata": {},
   "outputs": [],
   "source": []
  },
  {
   "cell_type": "code",
   "execution_count": null,
   "metadata": {},
   "outputs": [],
   "source": []
  },
  {
   "cell_type": "code",
   "execution_count": null,
   "metadata": {},
   "outputs": [],
   "source": []
  }
 ],
 "metadata": {
  "kernelspec": {
   "display_name": "Python 3",
   "language": "python",
   "name": "python3"
  },
  "language_info": {
   "codemirror_mode": {
    "name": "ipython",
    "version": 3
   },
   "file_extension": ".py",
   "mimetype": "text/x-python",
   "name": "python",
   "nbconvert_exporter": "python",
   "pygments_lexer": "ipython3",
   "version": "3.8.8"
  }
 },
 "nbformat": 4,
 "nbformat_minor": 4
}
